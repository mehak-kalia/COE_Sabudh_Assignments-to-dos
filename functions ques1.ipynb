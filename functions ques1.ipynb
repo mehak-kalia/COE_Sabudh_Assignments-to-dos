{
  "nbformat": 4,
  "nbformat_minor": 0,
  "metadata": {
    "colab": {
      "name": "ques1.ipynb",
      "provenance": [],
      "authorship_tag": "ABX9TyNfos/NlaEHO4GB/V/WjyYM",
      "include_colab_link": true
    },
    "kernelspec": {
      "name": "python3",
      "display_name": "Python 3"
    },
    "language_info": {
      "name": "python"
    }
  },
  "cells": [
    {
      "cell_type": "markdown",
      "metadata": {
        "id": "view-in-github",
        "colab_type": "text"
      },
      "source": [
        "<a href=\"https://colab.research.google.com/github/mehak-kalia/COE_Sabudh_Assignments-to-dos/blob/main/functions%20ques1.ipynb\" target=\"_parent\"><img src=\"https://colab.research.google.com/assets/colab-badge.svg\" alt=\"Open In Colab\"/></a>"
      ]
    },
    {
      "cell_type": "code",
      "metadata": {
        "colab": {
          "base_uri": "https://localhost:8080/"
        },
        "id": "OPFFv77Un2GF",
        "outputId": "754881d5-9079-4145-b27f-5fbad2618923"
      },
      "source": [
        "#question 1\n",
        "def Fibonacci(n):\n",
        "    if n<0:\n",
        "        print(\"Incorrect input\")    \n",
        "    elif n==0:\n",
        "        return 0\n",
        "    elif n==1:\n",
        "        return 1\n",
        "    else:\n",
        "        return Fibonacci(n-1)+Fibonacci(n-2)\n",
        "n=int (input (\"Enter a number :\"))\n",
        "print(Fibonacci(n))"
      ],
      "execution_count": 1,
      "outputs": [
        {
          "output_type": "stream",
          "name": "stdout",
          "text": [
            "Enter a number :3\n",
            "2\n"
          ]
        }
      ]
    }
  ]
}