{
  "nbformat": 4,
  "nbformat_minor": 0,
  "metadata": {
    "colab": {
      "name": "ques6.ipynb",
      "provenance": [],
      "authorship_tag": "ABX9TyP68G87MOKRhl0rdvnPEUns",
      "include_colab_link": true
    },
    "kernelspec": {
      "name": "python3",
      "display_name": "Python 3"
    },
    "language_info": {
      "name": "python"
    }
  },
  "cells": [
    {
      "cell_type": "markdown",
      "metadata": {
        "id": "view-in-github",
        "colab_type": "text"
      },
      "source": [
        "<a href=\"https://colab.research.google.com/github/mehak-kalia/COE_Sabudh_Assignments-to-dos/blob/main/functions%20ques6.ipynb\" target=\"_parent\"><img src=\"https://colab.research.google.com/assets/colab-badge.svg\" alt=\"Open In Colab\"/></a>"
      ]
    },
    {
      "cell_type": "code",
      "metadata": {
        "colab": {
          "base_uri": "https://localhost:8080/"
        },
        "id": "OPFFv77Un2GF",
        "outputId": "f8e5d870-ed35-4b4d-9ec7-584d1b00d6cd"
      },
      "source": [
        "#question 6\n",
        "\n",
        "\n",
        "def vowel(text):\n",
        "    vowels = \"aeiuoAEIOU\"\n",
        "    print(len([letter for letter in text if letter in vowels]))\n",
        "    print([letter for letter in text if letter in vowels])\n",
        "\n",
        "string=input(\"Enter string:\")\n",
        "print(\"Number of vowels are:\")\n",
        "print(vowel(string))"
      ],
      "execution_count": 7,
      "outputs": [
        {
          "output_type": "stream",
          "name": "stdout",
          "text": [
            "Enter string:hello\n",
            "Number of vowels are:\n",
            "2\n",
            "['e', 'o']\n",
            "None\n"
          ]
        }
      ]
    }
  ]
}