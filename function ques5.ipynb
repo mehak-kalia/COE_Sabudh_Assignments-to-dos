{
  "nbformat": 4,
  "nbformat_minor": 0,
  "metadata": {
    "colab": {
      "name": "ques5.ipynb",
      "provenance": [],
      "authorship_tag": "ABX9TyOtO+YMCKHsrzsjG6XDhCWX",
      "include_colab_link": true
    },
    "kernelspec": {
      "name": "python3",
      "display_name": "Python 3"
    },
    "language_info": {
      "name": "python"
    }
  },
  "cells": [
    {
      "cell_type": "markdown",
      "metadata": {
        "id": "view-in-github",
        "colab_type": "text"
      },
      "source": [
        "<a href=\"https://colab.research.google.com/github/mehak-kalia/COE_Sabudh_Assignments-to-dos/blob/main/function%20ques5.ipynb\" target=\"_parent\"><img src=\"https://colab.research.google.com/assets/colab-badge.svg\" alt=\"Open In Colab\"/></a>"
      ]
    },
    {
      "cell_type": "code",
      "metadata": {
        "colab": {
          "base_uri": "https://localhost:8080/"
        },
        "id": "OPFFv77Un2GF",
        "outputId": "d242a9e3-ded6-4356-88d6-202872eefd34"
      },
      "source": [
        "#question 5\n",
        "\n",
        "list1 = ['day','cat','dog']\n",
        "print(list(map(list, list1)))"
      ],
      "execution_count": 5,
      "outputs": [
        {
          "output_type": "stream",
          "name": "stdout",
          "text": [
            "[['d', 'a', 'y'], ['c', 'a', 't'], ['d', 'o', 'g']]\n"
          ]
        }
      ]
    }
  ]
}