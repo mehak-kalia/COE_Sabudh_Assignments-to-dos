{
  "cells": [
    {
      "cell_type": "markdown",
      "metadata": {
        "id": "view-in-github",
        "colab_type": "text"
      },
      "source": [
        "<a href=\"https://colab.research.google.com/github/mehak-kalia/COE_Sabudh_Assignments-to-dos/blob/main/Pandas_Coursework_Solution.ipynb\" target=\"_parent\"><img src=\"https://colab.research.google.com/assets/colab-badge.svg\" alt=\"Open In Colab\"/></a>"
      ]
    },
    {
      "cell_type": "markdown",
      "id": "b67e6297",
      "metadata": {
        "id": "b67e6297"
      },
      "source": [
        "#### Import the necessary libraries"
      ]
    },
    {
      "cell_type": "code",
      "execution_count": null,
      "id": "406ba4e6",
      "metadata": {
        "id": "406ba4e6"
      },
      "outputs": [],
      "source": [
        "import pandas as pd\n",
        "import numpy as np\n"
      ]
    },
    {
      "cell_type": "markdown",
      "id": "9626452e",
      "metadata": {
        "id": "9626452e"
      },
      "source": [
        "#### Import the dataset"
      ]
    },
    {
      "cell_type": "code",
      "execution_count": null,
      "id": "08c8f0d9",
      "metadata": {
        "id": "08c8f0d9"
      },
      "outputs": [],
      "source": [
        "from google.colab import files\n",
        "euro12=pd.read_csv(\"https://drive.google.com/uc?id=1aRAnz_0smYl-A-wXChvD8hSyOnKx0z8h\")\n",
        "\n"
      ]
    },
    {
      "cell_type": "markdown",
      "id": "3e3e178f",
      "metadata": {
        "id": "3e3e178f"
      },
      "source": [
        "#### Assign it to a variable called euro12."
      ]
    },
    {
      "cell_type": "code",
      "execution_count": null,
      "id": "fd4af606",
      "metadata": {
        "colab": {
          "base_uri": "https://localhost:8080/"
        },
        "id": "fd4af606",
        "outputId": "2a72b6f7-e667-4702-89e2-f27f122b43e3"
      },
      "outputs": [
        {
          "output_type": "stream",
          "name": "stdout",
          "text": [
            "                   Team  Goals  Shots on target  Shots off target  \\\n",
            "0               Croatia      4               13                12   \n",
            "1        Czech Republic      4               13                18   \n",
            "2               Denmark      4               10                10   \n",
            "3               England      5               11                18   \n",
            "4                France      3               22                24   \n",
            "5               Germany     10               32                32   \n",
            "6                Greece      5                8                18   \n",
            "7                 Italy      6               34                45   \n",
            "8           Netherlands      2               12                36   \n",
            "9                Poland      2               15                23   \n",
            "10             Portugal      6               22                42   \n",
            "11  Republic of Ireland      1                7                12   \n",
            "12               Russia      5                9                31   \n",
            "13                Spain     12               42                33   \n",
            "14               Sweden      5               17                19   \n",
            "15              Ukraine      2                7                26   \n",
            "\n",
            "   Shooting Accuracy % Goals-to-shots  Total shots (inc. Blocked)  \\\n",
            "0              51.9%            16.0%                          32   \n",
            "1              41.9%            12.9%                          39   \n",
            "2              50.0%            20.0%                          27   \n",
            "3              50.0%            17.2%                          40   \n",
            "4              37.9%             6.5%                          65   \n",
            "5              47.8%            15.6%                          80   \n",
            "6              30.7%            19.2%                          32   \n",
            "7              43.0%             7.5%                         110   \n",
            "8              25.0%             4.1%                          60   \n",
            "9              39.4%             5.2%                          48   \n",
            "10             34.3%             9.3%                          82   \n",
            "11             36.8%             5.2%                          28   \n",
            "12             22.5%            12.5%                          59   \n",
            "13             55.9%            16.0%                         100   \n",
            "14             47.2%            13.8%                          39   \n",
            "15             21.2%             6.0%                          38   \n",
            "\n",
            "    Hit Woodwork  Penalty goals  Penalties not scored  ...  Saves made  \\\n",
            "0              0              0                     0  ...          13   \n",
            "1              0              0                     0  ...           9   \n",
            "2              1              0                     0  ...          10   \n",
            "3              0              0                     0  ...          22   \n",
            "4              1              0                     0  ...           6   \n",
            "5              2              1                     0  ...          10   \n",
            "6              1              1                     1  ...          13   \n",
            "7              2              0                     0  ...          20   \n",
            "8              2              0                     0  ...          12   \n",
            "9              0              0                     0  ...           6   \n",
            "10             6              0                     0  ...          10   \n",
            "11             0              0                     0  ...          17   \n",
            "12             2              0                     0  ...          10   \n",
            "13             0              1                     0  ...          15   \n",
            "14             3              0                     0  ...           8   \n",
            "15             0              0                     0  ...          13   \n",
            "\n",
            "    Saves-to-shots ratio  Fouls Won Fouls Conceded  Offsides  Yellow Cards  \\\n",
            "0                  81.3%         41             62         2             9   \n",
            "1                  60.1%         53             73         8             7   \n",
            "2                  66.7%         25             38         8             4   \n",
            "3                  88.1%         43             45         6             5   \n",
            "4                  54.6%         36             51         5             6   \n",
            "5                  62.6%         63             49        12             4   \n",
            "6                  65.1%         67             48        12             9   \n",
            "7                  74.1%        101             89        16            16   \n",
            "8                  70.6%         35             30         3             5   \n",
            "9                  66.7%         48             56         3             7   \n",
            "10                 71.5%         73             90        10            12   \n",
            "11                 65.4%         43             51        11             6   \n",
            "12                 77.0%         34             43         4             6   \n",
            "13                 93.8%        102             83        19            11   \n",
            "14                 61.6%         35             51         7             7   \n",
            "15                 76.5%         48             31         4             5   \n",
            "\n",
            "    Red Cards  Subs on  Subs off  Players Used  \n",
            "0           0        9         9            16  \n",
            "1           0       11        11            19  \n",
            "2           0        7         7            15  \n",
            "3           0       11        11            16  \n",
            "4           0       11        11            19  \n",
            "5           0       15        15            17  \n",
            "6           1       12        12            20  \n",
            "7           0       18        18            19  \n",
            "8           0        7         7            15  \n",
            "9           1        7         7            17  \n",
            "10          0       14        14            16  \n",
            "11          1       10        10            17  \n",
            "12          0        7         7            16  \n",
            "13          0       17        17            18  \n",
            "14          0        9         9            18  \n",
            "15          0        9         9            18  \n",
            "\n",
            "[16 rows x 35 columns]\n"
          ]
        }
      ],
      "source": [
        "\n",
        "\n",
        "print(euro12)\n"
      ]
    },
    {
      "cell_type": "markdown",
      "id": "d0e504eb",
      "metadata": {
        "id": "d0e504eb"
      },
      "source": [
        "#### Select only the Goal column.\n"
      ]
    },
    {
      "cell_type": "code",
      "execution_count": null,
      "id": "043d4cf3",
      "metadata": {
        "colab": {
          "base_uri": "https://localhost:8080/"
        },
        "id": "043d4cf3",
        "outputId": "805b5cc6-a949-4e2a-a7b7-7823f5994e4e"
      },
      "outputs": [
        {
          "output_type": "stream",
          "name": "stdout",
          "text": [
            "0      4\n",
            "1      4\n",
            "2      4\n",
            "3      5\n",
            "4      3\n",
            "5     10\n",
            "6      5\n",
            "7      6\n",
            "8      2\n",
            "9      2\n",
            "10     6\n",
            "11     1\n",
            "12     5\n",
            "13    12\n",
            "14     5\n",
            "15     2\n",
            "Name: Goals, dtype: int64\n"
          ]
        }
      ],
      "source": [
        "goals = euro12['Goals']\n",
        "\n",
        "print(goals)"
      ]
    },
    {
      "cell_type": "markdown",
      "id": "7549ce0a",
      "metadata": {
        "id": "7549ce0a"
      },
      "source": [
        "#### How many team participated in the Euro2012?"
      ]
    },
    {
      "cell_type": "code",
      "execution_count": null,
      "id": "8c3c82bb",
      "metadata": {
        "id": "8c3c82bb",
        "colab": {
          "base_uri": "https://localhost:8080/"
        },
        "outputId": "45ccc391-415f-4983-a3e7-a9a8c8de200d"
      },
      "outputs": [
        {
          "output_type": "stream",
          "name": "stdout",
          "text": [
            "16\n"
          ]
        }
      ],
      "source": [
        "print(len(euro12['Team']))"
      ]
    },
    {
      "cell_type": "markdown",
      "id": "fb022821",
      "metadata": {
        "id": "fb022821"
      },
      "source": [
        "#### What is the number of columns in the dataset?"
      ]
    },
    {
      "cell_type": "code",
      "execution_count": null,
      "id": "f5c46734",
      "metadata": {
        "id": "f5c46734",
        "colab": {
          "base_uri": "https://localhost:8080/"
        },
        "outputId": "1cf90d07-86ab-4139-c573-bcd4af7485fc"
      },
      "outputs": [
        {
          "output_type": "stream",
          "name": "stdout",
          "text": [
            "35\n"
          ]
        }
      ],
      "source": [
        "print(len(euro12.columns))"
      ]
    },
    {
      "cell_type": "markdown",
      "id": "fea94d35",
      "metadata": {
        "id": "fea94d35"
      },
      "source": [
        "#### View only the columns Team, Yellow Cards and Red Cards and assign them to a dataframe called discipline"
      ]
    },
    {
      "cell_type": "code",
      "execution_count": null,
      "id": "ca200f6a",
      "metadata": {
        "id": "ca200f6a",
        "colab": {
          "base_uri": "https://localhost:8080/"
        },
        "outputId": "b6e7b8f3-de23-4d22-cd46-6638e1cb8807"
      },
      "outputs": [
        {
          "output_type": "stream",
          "name": "stdout",
          "text": [
            "                   Team  Yellow Cards  Red Cards\n",
            "0               Croatia             9          0\n",
            "1        Czech Republic             7          0\n",
            "2               Denmark             4          0\n",
            "3               England             5          0\n",
            "4                France             6          0\n",
            "5               Germany             4          0\n",
            "6                Greece             9          1\n",
            "7                 Italy            16          0\n",
            "8           Netherlands             5          0\n",
            "9                Poland             7          1\n",
            "10             Portugal            12          0\n",
            "11  Republic of Ireland             6          1\n",
            "12               Russia             6          0\n",
            "13                Spain            11          0\n",
            "14               Sweden             7          0\n",
            "15              Ukraine             5          0\n"
          ]
        }
      ],
      "source": [
        "discipline = euro12[['Team', 'Yellow Cards', 'Red Cards']].copy()\n",
        "\n",
        "print(discipline)"
      ]
    },
    {
      "cell_type": "markdown",
      "id": "5a76d01d",
      "metadata": {
        "id": "5a76d01d"
      },
      "source": [
        "#### Sort the teams by Red Cards, then to Yellow Cards"
      ]
    },
    {
      "cell_type": "code",
      "execution_count": null,
      "id": "5b66c9ce",
      "metadata": {
        "id": "5b66c9ce",
        "colab": {
          "base_uri": "https://localhost:8080/"
        },
        "outputId": "31764088-760e-4403-9d07-d34dcc132942"
      },
      "outputs": [
        {
          "output_type": "stream",
          "name": "stdout",
          "text": [
            "<bound method Series.sort_values of 0     0\n",
            "1     0\n",
            "2     0\n",
            "3     0\n",
            "4     0\n",
            "5     0\n",
            "6     1\n",
            "7     0\n",
            "8     0\n",
            "9     1\n",
            "10    0\n",
            "11    1\n",
            "12    0\n",
            "13    0\n",
            "14    0\n",
            "15    0\n",
            "Name: Red Cards, dtype: int64>\n",
            "<bound method Series.sort_values of 0      9\n",
            "1      7\n",
            "2      4\n",
            "3      5\n",
            "4      6\n",
            "5      4\n",
            "6      9\n",
            "7     16\n",
            "8      5\n",
            "9      7\n",
            "10    12\n",
            "11     6\n",
            "12     6\n",
            "13    11\n",
            "14     7\n",
            "15     5\n",
            "Name: Yellow Cards, dtype: int64>\n"
          ]
        }
      ],
      "source": [
        "print(euro12['Red Cards'].sort_values)\n",
        "print(euro12['Yellow Cards'].sort_values)"
      ]
    },
    {
      "cell_type": "markdown",
      "id": "eb617862",
      "metadata": {
        "id": "eb617862"
      },
      "source": [
        "#### Calculate the mean Yellow Cards given per Team"
      ]
    },
    {
      "cell_type": "code",
      "execution_count": null,
      "id": "070be34b",
      "metadata": {
        "id": "070be34b",
        "colab": {
          "base_uri": "https://localhost:8080/"
        },
        "outputId": "6aa1b0a4-4b4c-48c3-fef5-3412b3496893"
      },
      "outputs": [
        {
          "output_type": "stream",
          "name": "stdout",
          "text": [
            "7.4375\n"
          ]
        }
      ],
      "source": [
        "print(euro12['Yellow Cards'].mean())"
      ]
    },
    {
      "cell_type": "markdown",
      "id": "e2a6992d",
      "metadata": {
        "id": "e2a6992d"
      },
      "source": [
        "#### Filter teams that scored more than 6 goals"
      ]
    },
    {
      "cell_type": "code",
      "execution_count": null,
      "id": "aff5845b",
      "metadata": {
        "id": "aff5845b",
        "colab": {
          "base_uri": "https://localhost:8080/"
        },
        "outputId": "59e08abd-2d67-4072-aa94-e06e896ee142"
      },
      "outputs": [
        {
          "output_type": "stream",
          "name": "stdout",
          "text": [
            "False    NaN\n",
            "False    NaN\n",
            "False    NaN\n",
            "False    NaN\n",
            "False    NaN\n",
            "True     NaN\n",
            "False    NaN\n",
            "False    NaN\n",
            "False    NaN\n",
            "False    NaN\n",
            "False    NaN\n",
            "False    NaN\n",
            "False    NaN\n",
            "True     NaN\n",
            "False    NaN\n",
            "False    NaN\n",
            "Name: Team, dtype: object\n"
          ]
        }
      ],
      "source": [
        "print(euro12['Team'].filter(euro12['Goals']>6))"
      ]
    },
    {
      "cell_type": "markdown",
      "id": "0ac53c72",
      "metadata": {
        "id": "0ac53c72"
      },
      "source": [
        "#### Present only the Shooting Accuracy from England, Italy and Russia"
      ]
    },
    {
      "cell_type": "code",
      "execution_count": null,
      "id": "85590503",
      "metadata": {
        "id": "85590503",
        "colab": {
          "base_uri": "https://localhost:8080/"
        },
        "outputId": "9c56d0d4-ca12-4fb6-be93-2d4c9b4c6883"
      },
      "outputs": [
        {
          "output_type": "execute_result",
          "data": {
            "text/plain": [
              "       Team Shooting Accuracy\n",
              "3   England             50.0%\n",
              "7     Italy             43.0%\n",
              "12   Russia             22.5%"
            ],
            "text/html": [
              "\n",
              "  <div id=\"df-1d3b160f-3680-424a-a660-565d06baead3\">\n",
              "    <div class=\"colab-df-container\">\n",
              "      <div>\n",
              "<style scoped>\n",
              "    .dataframe tbody tr th:only-of-type {\n",
              "        vertical-align: middle;\n",
              "    }\n",
              "\n",
              "    .dataframe tbody tr th {\n",
              "        vertical-align: top;\n",
              "    }\n",
              "\n",
              "    .dataframe thead th {\n",
              "        text-align: right;\n",
              "    }\n",
              "</style>\n",
              "<table border=\"1\" class=\"dataframe\">\n",
              "  <thead>\n",
              "    <tr style=\"text-align: right;\">\n",
              "      <th></th>\n",
              "      <th>Team</th>\n",
              "      <th>Shooting Accuracy</th>\n",
              "    </tr>\n",
              "  </thead>\n",
              "  <tbody>\n",
              "    <tr>\n",
              "      <th>3</th>\n",
              "      <td>England</td>\n",
              "      <td>50.0%</td>\n",
              "    </tr>\n",
              "    <tr>\n",
              "      <th>7</th>\n",
              "      <td>Italy</td>\n",
              "      <td>43.0%</td>\n",
              "    </tr>\n",
              "    <tr>\n",
              "      <th>12</th>\n",
              "      <td>Russia</td>\n",
              "      <td>22.5%</td>\n",
              "    </tr>\n",
              "  </tbody>\n",
              "</table>\n",
              "</div>\n",
              "      <button class=\"colab-df-convert\" onclick=\"convertToInteractive('df-1d3b160f-3680-424a-a660-565d06baead3')\"\n",
              "              title=\"Convert this dataframe to an interactive table.\"\n",
              "              style=\"display:none;\">\n",
              "        \n",
              "  <svg xmlns=\"http://www.w3.org/2000/svg\" height=\"24px\"viewBox=\"0 0 24 24\"\n",
              "       width=\"24px\">\n",
              "    <path d=\"M0 0h24v24H0V0z\" fill=\"none\"/>\n",
              "    <path d=\"M18.56 5.44l.94 2.06.94-2.06 2.06-.94-2.06-.94-.94-2.06-.94 2.06-2.06.94zm-11 1L8.5 8.5l.94-2.06 2.06-.94-2.06-.94L8.5 2.5l-.94 2.06-2.06.94zm10 10l.94 2.06.94-2.06 2.06-.94-2.06-.94-.94-2.06-.94 2.06-2.06.94z\"/><path d=\"M17.41 7.96l-1.37-1.37c-.4-.4-.92-.59-1.43-.59-.52 0-1.04.2-1.43.59L10.3 9.45l-7.72 7.72c-.78.78-.78 2.05 0 2.83L4 21.41c.39.39.9.59 1.41.59.51 0 1.02-.2 1.41-.59l7.78-7.78 2.81-2.81c.8-.78.8-2.07 0-2.86zM5.41 20L4 18.59l7.72-7.72 1.47 1.35L5.41 20z\"/>\n",
              "  </svg>\n",
              "      </button>\n",
              "      \n",
              "  <style>\n",
              "    .colab-df-container {\n",
              "      display:flex;\n",
              "      flex-wrap:wrap;\n",
              "      gap: 12px;\n",
              "    }\n",
              "\n",
              "    .colab-df-convert {\n",
              "      background-color: #E8F0FE;\n",
              "      border: none;\n",
              "      border-radius: 50%;\n",
              "      cursor: pointer;\n",
              "      display: none;\n",
              "      fill: #1967D2;\n",
              "      height: 32px;\n",
              "      padding: 0 0 0 0;\n",
              "      width: 32px;\n",
              "    }\n",
              "\n",
              "    .colab-df-convert:hover {\n",
              "      background-color: #E2EBFA;\n",
              "      box-shadow: 0px 1px 2px rgba(60, 64, 67, 0.3), 0px 1px 3px 1px rgba(60, 64, 67, 0.15);\n",
              "      fill: #174EA6;\n",
              "    }\n",
              "\n",
              "    [theme=dark] .colab-df-convert {\n",
              "      background-color: #3B4455;\n",
              "      fill: #D2E3FC;\n",
              "    }\n",
              "\n",
              "    [theme=dark] .colab-df-convert:hover {\n",
              "      background-color: #434B5C;\n",
              "      box-shadow: 0px 1px 3px 1px rgba(0, 0, 0, 0.15);\n",
              "      filter: drop-shadow(0px 1px 2px rgba(0, 0, 0, 0.3));\n",
              "      fill: #FFFFFF;\n",
              "    }\n",
              "  </style>\n",
              "\n",
              "      <script>\n",
              "        const buttonEl =\n",
              "          document.querySelector('#df-1d3b160f-3680-424a-a660-565d06baead3 button.colab-df-convert');\n",
              "        buttonEl.style.display =\n",
              "          google.colab.kernel.accessAllowed ? 'block' : 'none';\n",
              "\n",
              "        async function convertToInteractive(key) {\n",
              "          const element = document.querySelector('#df-1d3b160f-3680-424a-a660-565d06baead3');\n",
              "          const dataTable =\n",
              "            await google.colab.kernel.invokeFunction('convertToInteractive',\n",
              "                                                     [key], {});\n",
              "          if (!dataTable) return;\n",
              "\n",
              "          const docLinkHtml = 'Like what you see? Visit the ' +\n",
              "            '<a target=\"_blank\" href=https://colab.research.google.com/notebooks/data_table.ipynb>data table notebook</a>'\n",
              "            + ' to learn more about interactive tables.';\n",
              "          element.innerHTML = '';\n",
              "          dataTable['output_type'] = 'display_data';\n",
              "          await google.colab.output.renderOutput(dataTable, element);\n",
              "          const docLink = document.createElement('div');\n",
              "          docLink.innerHTML = docLinkHtml;\n",
              "          element.appendChild(docLink);\n",
              "        }\n",
              "      </script>\n",
              "    </div>\n",
              "  </div>\n",
              "  "
            ]
          },
          "metadata": {},
          "execution_count": 35
        }
      ],
      "source": [
        "\n",
        "printeuro12.loc[\n",
        "           euro12.Team.isin(['England','Italy','Russia' ]),\n",
        "           ['Team', 'Shooting Accuracy']\n",
        "           ]"
      ]
    },
    {
      "cell_type": "markdown",
      "id": "82b03d01",
      "metadata": {
        "id": "82b03d01"
      },
      "source": [
        "#### Now using the raw data below, perform actions"
      ]
    },
    {
      "cell_type": "code",
      "execution_count": null,
      "id": "f38e73a3",
      "metadata": {
        "id": "f38e73a3"
      },
      "outputs": [],
      "source": [
        "# Create an example dataframe about a fictional army\n",
        "army = {'regiment': ['Nighthawks', 'Nighthawks', 'Nighthawks', 'Nighthawks', 'Dragoons', 'Dragoons', 'Dragoons', 'Dragoons', 'Scouts', 'Scouts', 'Scouts', 'Scouts'],\n",
        "            'company': ['1st', '1st', '2nd', '2nd', '1st', '1st', '2nd', '2nd','1st', '1st', '2nd', '2nd'],\n",
        "            'deaths': [523, 52, 25, 616, 43, 234, 523, 62, 62, 73, 37, 35],\n",
        "            'battles': [5, 42, 2, 2, 4, 7, 8, 3, 4, 7, 8, 9],\n",
        "            'size': [1045, 957, 1099, 1400, 1592, 1006, 987, 849, 973, 1005, 1099, 1523],\n",
        "            'veterans': [1, 5, 62, 26, 73, 37, 949, 48, 48, 435, 63, 345],\n",
        "            'readiness': [1, 2, 3, 3, 2, 1, 2, 3, 2, 1, 2, 3],\n",
        "            'armored': [1, 0, 1, 1, 0, 1, 0, 1, 0, 0, 1, 1],\n",
        "            'deserters': [4, 24, 31, 2, 3, 4, 24, 31, 2, 3, 2, 3],\n",
        "            'origin': ['Arizona', 'California', 'Texas', 'Florida', 'Maine', 'Iowa', 'Alaska', 'Washington', 'Oregon', 'Wyoming', 'Louisana', 'Georgia']}"
      ]
    },
    {
      "cell_type": "markdown",
      "id": "cc2ea42b",
      "metadata": {
        "id": "cc2ea42b"
      },
      "source": [
        "#### Set the 'origin' colum as the index of the dataframe"
      ]
    },
    {
      "cell_type": "code",
      "execution_count": null,
      "id": "2710a781",
      "metadata": {
        "id": "2710a781"
      },
      "outputs": [],
      "source": [
        "a1= pd.DataFrame.from_dict(army)"
      ]
    },
    {
      "cell_type": "markdown",
      "id": "202241e8",
      "metadata": {
        "id": "202241e8"
      },
      "source": [
        "####"
      ]
    },
    {
      "cell_type": "code",
      "execution_count": null,
      "id": "837ce9a4",
      "metadata": {
        "id": "837ce9a4"
      },
      "outputs": [],
      "source": [
        "a2 = a1.set_index('origin')\n",
        "\n",
        "print(a2)"
      ]
    },
    {
      "cell_type": "markdown",
      "id": "8277d5ce",
      "metadata": {
        "id": "8277d5ce"
      },
      "source": [
        "####"
      ]
    },
    {
      "cell_type": "code",
      "execution_count": null,
      "id": "85ba9a49",
      "metadata": {
        "id": "85ba9a49"
      },
      "outputs": [],
      "source": [
        ""
      ]
    },
    {
      "cell_type": "markdown",
      "id": "6459e3e5",
      "metadata": {
        "id": "6459e3e5"
      },
      "source": [
        "####"
      ]
    },
    {
      "cell_type": "code",
      "execution_count": null,
      "id": "29aea703",
      "metadata": {
        "id": "29aea703"
      },
      "outputs": [],
      "source": [
        ""
      ]
    },
    {
      "cell_type": "markdown",
      "id": "c7071bae",
      "metadata": {
        "id": "c7071bae"
      },
      "source": [
        "####"
      ]
    },
    {
      "cell_type": "code",
      "execution_count": null,
      "id": "f45aa4d1",
      "metadata": {
        "id": "f45aa4d1"
      },
      "outputs": [],
      "source": [
        ""
      ]
    },
    {
      "cell_type": "markdown",
      "id": "371d471e",
      "metadata": {
        "id": "371d471e"
      },
      "source": [
        "####"
      ]
    },
    {
      "cell_type": "code",
      "execution_count": null,
      "id": "33973156",
      "metadata": {
        "id": "33973156"
      },
      "outputs": [],
      "source": [
        ""
      ]
    },
    {
      "cell_type": "markdown",
      "id": "173863ca",
      "metadata": {
        "id": "173863ca"
      },
      "source": [
        "####"
      ]
    },
    {
      "cell_type": "code",
      "execution_count": null,
      "id": "9e77bb50",
      "metadata": {
        "id": "9e77bb50"
      },
      "outputs": [],
      "source": [
        ""
      ]
    },
    {
      "cell_type": "code",
      "execution_count": null,
      "id": "b1fab305",
      "metadata": {
        "id": "b1fab305"
      },
      "outputs": [],
      "source": [
        ""
      ]
    }
  ],
  "metadata": {
    "kernelspec": {
      "display_name": "Python 3 (ipykernel)",
      "language": "python",
      "name": "python3"
    },
    "language_info": {
      "codemirror_mode": {
        "name": "ipython",
        "version": 3
      },
      "file_extension": ".py",
      "mimetype": "text/x-python",
      "name": "python",
      "nbconvert_exporter": "python",
      "pygments_lexer": "ipython3",
      "version": "3.8.10"
    },
    "colab": {
      "name": "Pandas Coursework Solution.ipynb",
      "provenance": [],
      "include_colab_link": true
    }
  },
  "nbformat": 4,
  "nbformat_minor": 5
}