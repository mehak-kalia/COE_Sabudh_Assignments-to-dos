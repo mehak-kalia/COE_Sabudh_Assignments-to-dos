{
  "nbformat": 4,
  "nbformat_minor": 0,
  "metadata": {
    "colab": {
      "name": "ques3.ipynb",
      "provenance": [],
      "authorship_tag": "ABX9TyMYbmD3PMeRgqWzX/nrWvYt",
      "include_colab_link": true
    },
    "kernelspec": {
      "name": "python3",
      "display_name": "Python 3"
    },
    "language_info": {
      "name": "python"
    }
  },
  "cells": [
    {
      "cell_type": "markdown",
      "metadata": {
        "id": "view-in-github",
        "colab_type": "text"
      },
      "source": [
        "<a href=\"https://colab.research.google.com/github/mehak-kalia/COE_Sabudh_Assignments-to-dos/blob/main/functions%20ques3.ipynb\" target=\"_parent\"><img src=\"https://colab.research.google.com/assets/colab-badge.svg\" alt=\"Open In Colab\"/></a>"
      ]
    },
    {
      "cell_type": "code",
      "metadata": {
        "colab": {
          "base_uri": "https://localhost:8080/"
        },
        "id": "OPFFv77Un2GF",
        "outputId": "29d9c42a-51d1-4605-98a7-d79485bc69a7"
      },
      "source": [
        "#question 3\n",
        "\n",
        "def minAbsSumPair(arr,arr_size): \n",
        "    inv_count = 0\n",
        "\n",
        "    if arr_size < 2: \n",
        "        print(\"Invalid Input\") \n",
        "        return\n",
        "\n",
        "    min_l = 0\n",
        "    min_r = 1\n",
        "    min_sum = arr[0] + arr[1] \n",
        "    for l in range (0, arr_size - 1): \n",
        "        for r in range (l + 1, arr_size): \n",
        "            sum = arr[l] + arr[r]                  \n",
        "            if abs(min_sum) > abs(sum):          \n",
        "                min_sum = sum\n",
        "                min_l = l \n",
        "                min_r = r \n",
        "  \n",
        "    print(\"The two elements whose sum is zero are\",  \n",
        "            arr[min_l], \"and \", arr[min_r]) \n",
        "\n",
        "arr = [1, 60, -10, 70, -80, 80] \n",
        "  \n",
        "minAbsSumPair(arr, 6); "
      ],
      "execution_count": 3,
      "outputs": [
        {
          "output_type": "stream",
          "name": "stdout",
          "text": [
            "The two elements whose sum is zero are -80 and  80\n"
          ]
        }
      ]
    }
  ]
}