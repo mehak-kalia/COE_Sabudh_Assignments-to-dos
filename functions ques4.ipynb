{
  "nbformat": 4,
  "nbformat_minor": 0,
  "metadata": {
    "colab": {
      "name": "ques4.ipynb",
      "provenance": [],
      "authorship_tag": "ABX9TyPXWS/IetfXIbNoiUbaRLfV",
      "include_colab_link": true
    },
    "kernelspec": {
      "name": "python3",
      "display_name": "Python 3"
    },
    "language_info": {
      "name": "python"
    }
  },
  "cells": [
    {
      "cell_type": "markdown",
      "metadata": {
        "id": "view-in-github",
        "colab_type": "text"
      },
      "source": [
        "<a href=\"https://colab.research.google.com/github/mehak-kalia/COE_Sabudh_Assignments-to-dos/blob/main/functions%20ques4.ipynb\" target=\"_parent\"><img src=\"https://colab.research.google.com/assets/colab-badge.svg\" alt=\"Open In Colab\"/></a>"
      ]
    },
    {
      "cell_type": "code",
      "metadata": {
        "colab": {
          "base_uri": "https://localhost:8080/"
        },
        "id": "OPFFv77Un2GF",
        "outputId": "14a8efe4-e217-48f3-c624-1eec55bee6ab"
      },
      "source": [
        "#question 4\n",
        "\n",
        "def findTriplets(arr, n): \n",
        "  \n",
        "    found = True\n",
        "    for i in range(0, n-2): \n",
        "      \n",
        "        for j in range(i+1, n-1): \n",
        "          \n",
        "            for k in range(j+1, n): \n",
        "              \n",
        "                if (arr[i] + arr[j] + arr[k] == 0): \n",
        "                    print(arr[i], arr[j], arr[k]) \n",
        "                    found = True\n",
        "      \n",
        "    if (found == False): \n",
        "        print(\" not exist \") \n",
        "arr = [0, -2, 1, -3, 1] \n",
        "n = len(arr) \n",
        "findTriplets(arr, n) "
      ],
      "execution_count": 4,
      "outputs": [
        {
          "output_type": "stream",
          "name": "stdout",
          "text": [
            "-2 1 1\n"
          ]
        }
      ]
    }
  ]
}