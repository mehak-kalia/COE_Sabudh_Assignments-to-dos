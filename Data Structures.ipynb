{
  "nbformat": 4,
  "nbformat_minor": 0,
  "metadata": {
    "colab": {
      "name": "2.ipynb",
      "provenance": [],
      "collapsed_sections": [],
      "toc_visible": true,
      "authorship_tag": "ABX9TyNVu5Z+Esi0wdaEEzjbv7li",
      "include_colab_link": true
    },
    "kernelspec": {
      "display_name": "Python 3",
      "name": "python3"
    },
    "language_info": {
      "name": "python"
    }
  },
  "cells": [
    {
      "cell_type": "markdown",
      "metadata": {
        "id": "view-in-github",
        "colab_type": "text"
      },
      "source": [
        "<a href=\"https://colab.research.google.com/github/mehak-kalia/COE_Sabudh_Assignments-to-dos/blob/main/Data%20Structures.ipynb\" target=\"_parent\"><img src=\"https://colab.research.google.com/assets/colab-badge.svg\" alt=\"Open In Colab\"/></a>"
      ]
    },
    {
      "cell_type": "code",
      "metadata": {
        "colab": {
          "base_uri": "https://localhost:8080/"
        },
        "id": "Y9ZXC018fuHD",
        "outputId": "98c473b3-1a92-46af-9d40-0d96c6d8f317"
      },
      "source": [
        "\n",
        "\n",
        "\n",
        "class Node:\n",
        "\n",
        "\t# Constructor to initialize the node object\n",
        "\tdef __init__(self, data):\n",
        "\t\tself.data = data\n",
        "\t\tself.next = None\n",
        "\n",
        "\n",
        "class LinkedList:\n",
        "\n",
        "\t# Function to initialize head\n",
        "\tdef __init__(self):\n",
        "\t\tself.head = None\n",
        "\n",
        "\t# Function to reverse the linked list\n",
        "\tdef reverse(self):\n",
        "\t\tprev = None\n",
        "\t\tcurrent = self.head\n",
        "\t\twhile(current is not None):\n",
        "\t\t\tnext = current.next\n",
        "\t\t\tcurrent.next = prev\n",
        "\t\t\tprev = current\n",
        "\t\t\tcurrent = next\n",
        "\t\tself.head = prev\n",
        "\n",
        "\t# Function to insert a new node at the beginning\n",
        "\tdef push(self, new_data):\n",
        "\t\tnew_node = Node(new_data)\n",
        "\t\tnew_node.next = self.head\n",
        "\t\tself.head = new_node\n",
        "\n",
        "\t# Utility function to print the linked LinkedList\n",
        "\tdef printList(self):\n",
        "\t\ttemp = self.head\n",
        "\t\twhile(temp):\n",
        "\t\t\tprint(temp.data, end=\" \")\n",
        "\t\t\ttemp = temp.next\n",
        "\n",
        "\n",
        "# Driver program to test above functions\n",
        "llist = LinkedList()\n",
        "llist.push(6)\n",
        "llist.push(5)\n",
        "llist.push(4)\n",
        "llist.push(3)\n",
        "llist.push(2)\n",
        "llist.push(1)\n",
        "\n",
        "print(\"Given Linked List\")\n",
        "llist.printList()\n",
        "llist.reverse()\n",
        "print(\"\\nReversed Linked List\")\n",
        "llist.printList()\n",
        "\n"
      ],
      "execution_count": null,
      "outputs": [
        {
          "name": "stdout",
          "output_type": "stream",
          "text": [
            "Given Linked List\n",
            "1 2 3 4 5 6 \n",
            "Reversed Linked List\n",
            "6 5 4 3 2 1 "
          ]
        }
      ]
    },
    {
      "cell_type": "code",
      "metadata": {
        "colab": {
          "base_uri": "https://localhost:8080/"
        },
        "id": "8-opT4h_-ZIx",
        "outputId": "1d1960ea-e180-4139-9b1e-4b70bdc46047"
      },
      "source": [
        "#question2\n",
        "\n",
        "\n",
        "class Node:\n",
        "\tdef __init__(self, data):\n",
        "\t\tself.data = data\n",
        "\t\tself.next = None\n",
        "\n",
        "\n",
        "class LinkedList:\n",
        "\n",
        "\tdef __init__(self):\n",
        "\t\tself.head = None\n",
        "\n",
        "\tdef printList(self):\n",
        "\t\ttemp = self.head\n",
        "\t\t\n",
        "\t\twhile temp :\n",
        "\t\t\tprint(temp.data, end=\"->\")\n",
        "\t\t\ttemp = temp.next\n",
        "\n",
        "\tdef append(self, new_data):\n",
        "\t\tnew_node = Node(new_data)\n",
        "\t\t\n",
        "\t\tif self.head is None:\n",
        "\t\t\tself.head = new_node\n",
        "\t\t\treturn\n",
        "\t\tlast = self.head\n",
        "\t\t\n",
        "\t\twhile last.next:\n",
        "\t\t\tlast = last.next\n",
        "\t\tlast.next = new_node\n",
        "\n",
        "\n",
        "# Function to merge two sorted linked list.\n",
        "def mergeLists(head1, head2):\n",
        "\n",
        "\ttemp = None\n",
        "\t\n",
        "\tif head1 is None:\n",
        "\t\treturn head2\n",
        "\n",
        "\tif head2 is None:\n",
        "\t\treturn head1\n",
        "\n",
        "\tif head1.data <= head2.data:\n",
        "\n",
        "\t\ttemp = head1\n",
        "\t\ttemp.next = mergeLists(head1.next, head2)\n",
        "\t\t\n",
        "\telse:\n",
        "\t\ttemp = head2\n",
        "\t\ttemp.next = mergeLists(head1, head2.next)\n",
        "\t\n",
        "\treturn temp\n",
        "\n",
        "\n",
        "if __name__ == '__main__':\n",
        "\n",
        "\tM = LinkedList()\n",
        "\tM.append(5)\n",
        "\tM.append(10)\n",
        "\tM.append(15)\n",
        "\tM.append(40)\n",
        " \n",
        "\tN = LinkedList()\n",
        "\tN.append(2)\n",
        "\tN.append(3)\n",
        "\tN.append(20)\n",
        "\n",
        "\tlist3 = LinkedList()\n",
        "\n",
        "\t# Merging linked list 1 and linked list 2\n",
        "\t# in linked list 3\n",
        "\tlist3.head = mergeLists(M.head, N.head)\n",
        "\n",
        "\tprint(\" Merged Linked List is : \", end=\"\")\n",
        "\tlist3.printList()\t\n",
        "\t\n"
      ],
      "execution_count": null,
      "outputs": [
        {
          "name": "stdout",
          "output_type": "stream",
          "text": [
            " Merged Linked List is : 2->3->5->10->15->20->40->"
          ]
        }
      ]
    },
    {
      "cell_type": "code",
      "metadata": {
        "colab": {
          "base_uri": "https://localhost:8080/"
        },
        "id": "4t1vgHnGvXGp",
        "outputId": "eae91914-f04f-4f68-ddc0-07c26c2562f7"
      },
      "source": [
        "#question3\n",
        "\n",
        "# node structure\n",
        "class Node:\n",
        "  def __init__(self, data):\n",
        "    self.data = data\n",
        "    self.next = None\n",
        "    self.prev = None\n",
        "\n",
        "#class LinkedList\n",
        "class LinkedList:\n",
        "  def __init__(self):\n",
        "    self.head = None\n",
        "\n",
        "  #Add new element at the end of the list\n",
        "  def push_back(self, newElement):\n",
        "    newNode = Node(newElement)\n",
        "    if(self.head == None):\n",
        "      self.head = newNode\n",
        "      return\n",
        "    else:\n",
        "      temp = self.head\n",
        "      while(temp.next != None):\n",
        "        temp = temp.next\n",
        "      temp.next = newNode\n",
        "      newNode.prev = temp\n",
        "\n",
        "  #Delete an element at the given position\n",
        "  def pop_at(self, position):     \n",
        "    if(position < 1):\n",
        "      print(\"\\nposition should be >= 1.\")\n",
        "    elif (position == 1 and self.head != None):\n",
        "      nodeToDelete = self.head\n",
        "      self.head = self.head.next\n",
        "      nodeToDelete = None\n",
        "      if (self.head != None):\n",
        "        self.head.prev = None\n",
        "    else:    \n",
        "      temp = self.head\n",
        "      for i in range(1, position-1):\n",
        "        if(temp != None):\n",
        "          temp = temp.next   \n",
        "      if(temp != None and temp.next != None):\n",
        "        nodeToDelete = temp.next\n",
        "        temp.next = temp.next.next\n",
        "        #if(temp.next.next!= None):\n",
        "         # temp.next.next.prev = temp.next  \n",
        "        #nodeToDelete = None \n",
        "      else:\n",
        "        print(\"\\nThe node is already null.\")\n",
        "\n",
        "  #display the content of the list\n",
        "  def PrintList(self):\n",
        "    temp = self.head\n",
        "    if(temp != None):\n",
        "      print(\"The list contains:\", end=\" \")\n",
        "      while (temp != None):\n",
        "        print(temp.data, end=\" \")\n",
        "        temp = temp.next\n",
        "      print()\n",
        "    else:\n",
        "      print(\"The list is empty.\")\n",
        "\n",
        "# test the code                \n",
        "MyList = LinkedList()\n",
        "\n",
        "#Add three elements at the end of the list.\n",
        "MyList.push_back(1)\n",
        "MyList.push_back(3)\n",
        "MyList.push_back(4)\n",
        "MyList.PrintList()\n",
        "\n",
        "\n",
        "MyList.pop_at(3)\n",
        "MyList.PrintList()\n",
        "\n"
      ],
      "execution_count": null,
      "outputs": [
        {
          "name": "stdout",
          "output_type": "stream",
          "text": [
            "The list contains: 1 3 4 \n",
            "The list contains: 1 3 \n"
          ]
        }
      ]
    },
    {
      "cell_type": "code",
      "metadata": {
        "colab": {
          "base_uri": "https://localhost:8080/"
        },
        "id": "yhQDWv-8_OXd",
        "outputId": "353d4140-c75b-4fe6-a4d1-96f31a3bdbe7"
      },
      "source": [
        "#question 4\n",
        "x = int(input(\"enter the start point\"))\n",
        "y = int(input(\"enter the end point\"))\n",
        "def integer():\n",
        "\n",
        "\n",
        "  for i in range(x-1, y):\n",
        "    i = i+1\n",
        "    if i%2 == 0:\n",
        "      if i%3 == 0:\n",
        "        print(\"Sabudh Foundation\")\n",
        "      else :\n",
        "        print(\"Sabudh\")\n",
        "    elif i%3 == 0:\n",
        "      print(\"Foundation\")\n",
        "    \n",
        "    else :\n",
        "      print(i)\n",
        "\n",
        "  \n",
        "integer()\n"
      ],
      "execution_count": null,
      "outputs": [
        {
          "name": "stdout",
          "output_type": "stream",
          "text": [
            "enter the start point1\n",
            "enter the end point7\n",
            "1\n",
            "Sabudh\n",
            "Foundation\n",
            "Sabudh\n",
            "5\n",
            "Sabudh Foundation\n",
            "7\n"
          ]
        }
      ]
    },
    {
      "cell_type": "code",
      "metadata": {
        "colab": {
          "base_uri": "https://localhost:8080/"
        },
        "id": "NQvnWUZi98iM",
        "outputId": "9a509888-30c9-4393-c0ba-f46bf4e6fbb4"
      },
      "source": [
        "#question5\n",
        "\n",
        "\n",
        "lst = []\n",
        "\n",
        "a = int(input(\"Enter number of elements : \"))\n",
        "\n",
        "for i in range(0, a):\n",
        "\telement = int(input())\n",
        "\n",
        "\tlst.append(element)\n",
        "\t\n",
        "print(\"Your List is\" , lst)\n",
        "\n",
        "print (\"Max value element : \", max(lst))\n"
      ],
      "execution_count": null,
      "outputs": [
        {
          "output_type": "stream",
          "name": "stdout",
          "text": [
            "Enter number of elements : 5\n",
            "1\n",
            "2\n",
            "3\n",
            "4\n",
            "5\n",
            "Your List is [1, 2, 3, 4, 5]\n",
            "Max value element :  5\n"
          ]
        }
      ]
    }
  ]
}