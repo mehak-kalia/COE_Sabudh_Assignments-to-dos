{
  "nbformat": 4,
  "nbformat_minor": 0,
  "metadata": {
    "colab": {
      "name": "ques2.ipynb",
      "provenance": [],
      "authorship_tag": "ABX9TyMpNQkhg+Wo3P317rIrYeGG",
      "include_colab_link": true
    },
    "kernelspec": {
      "name": "python3",
      "display_name": "Python 3"
    },
    "language_info": {
      "name": "python"
    }
  },
  "cells": [
    {
      "cell_type": "markdown",
      "metadata": {
        "id": "view-in-github",
        "colab_type": "text"
      },
      "source": [
        "<a href=\"https://colab.research.google.com/github/mehak-kalia/COE_Sabudh_Assignments-to-dos/blob/main/functions%20ques2.ipynb\" target=\"_parent\"><img src=\"https://colab.research.google.com/assets/colab-badge.svg\" alt=\"Open In Colab\"/></a>"
      ]
    },
    {
      "cell_type": "code",
      "metadata": {
        "colab": {
          "base_uri": "https://localhost:8080/"
        },
        "id": "OPFFv77Un2GF",
        "outputId": "c40371e7-de8f-4a42-e833-99209cd52f97"
      },
      "source": [
        "#question 2\n",
        "\n",
        "def add(a,b):\n",
        "    c=a+b\n",
        "    return c\n",
        "def sub(a,b):\n",
        "    c=a-b\n",
        "    return c\n",
        "def multiply(a,b):\n",
        "    c=a*b\n",
        "    return c\n",
        "def divide(a,b):\n",
        "    c=a/b\n",
        "    return c\n",
        "a=input(\"enter number a :\")\n",
        "a=int(a)\n",
        "b=input(\"enter number b :\")\n",
        "b=int(b)\n",
        "o=input(\"enter operator :\")\n",
        "if o =='-':\n",
        "    x=sub(a,b)\n",
        "    print(x)\n",
        "if o =='+':\n",
        "    x=add(a,b)\n",
        "    print(x)\n",
        "if o=='*':\n",
        "    x=multiply(a,b)\n",
        "    print(x)\n",
        "if o=='/':\n",
        "    x=divide(a,b)\n",
        "    print(x)"
      ],
      "execution_count": 2,
      "outputs": [
        {
          "output_type": "stream",
          "name": "stdout",
          "text": [
            "enter number a :5\n",
            "enter number b :2\n",
            "enter operator :*\n",
            "10\n"
          ]
        }
      ]
    }
  ]
}