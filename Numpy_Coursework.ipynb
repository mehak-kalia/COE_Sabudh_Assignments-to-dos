{
  "nbformat": 4,
  "nbformat_minor": 0,
  "metadata": {
    "colab": {
      "name": "Numpy Coursework.ipynb",
      "provenance": [],
      "authorship_tag": "ABX9TyNPJ0bRJcxoV2QNenYH3Wc8",
      "include_colab_link": true
    },
    "kernelspec": {
      "name": "python3",
      "display_name": "Python 3"
    },
    "language_info": {
      "name": "python"
    }
  },
  "cells": [
    {
      "cell_type": "markdown",
      "metadata": {
        "id": "view-in-github",
        "colab_type": "text"
      },
      "source": [
        "<a href=\"https://colab.research.google.com/github/mehak-kalia/COE_Sabudh_Assignments-to-dos/blob/main/Numpy_Coursework.ipynb\" target=\"_parent\"><img src=\"https://colab.research.google.com/assets/colab-badge.svg\" alt=\"Open In Colab\"/></a>"
      ]
    },
    {
      "cell_type": "code",
      "execution_count": null,
      "metadata": {
        "colab": {
          "base_uri": "https://localhost:8080/"
        },
        "id": "BwYcnxAjUDJM",
        "outputId": "79e05b17-2c04-448e-850d-9a254e19c9ba"
      },
      "outputs": [
        {
          "output_type": "execute_result",
          "data": {
            "text/plain": [
              "array([[0, 0, 0, 0, 0, 0, 0, 0],\n",
              "       [0, 0, 0, 0, 0, 0, 0, 0],\n",
              "       [0, 0, 0, 0, 0, 0, 0, 0],\n",
              "       [0, 0, 0, 1, 2, 0, 0, 0],\n",
              "       [0, 0, 0, 2, 1, 0, 0, 0],\n",
              "       [0, 0, 0, 0, 0, 0, 0, 0],\n",
              "       [0, 0, 0, 0, 0, 0, 0, 0],\n",
              "       [0, 0, 0, 0, 0, 0, 0, 0]])"
            ]
          },
          "metadata": {},
          "execution_count": 8
        }
      ],
      "source": [
        "#question 1\n",
        "\n",
        "import numpy as np\n",
        "a = np.array( [ [1, 2], [2, 1] ] )\n",
        "n=3\n",
        "a=np.pad(a, pad_width=n)\n",
        "a"
      ]
    },
    {
      "cell_type": "code",
      "execution_count": null,
      "metadata": {
        "colab": {
          "base_uri": "https://localhost:8080/"
        },
        "id": "1imnYWKpOSkM",
        "outputId": "d4e99ff4-0dd2-4080-8a8f-0d26b57e34ed"
      },
      "outputs": [
        {
          "output_type": "stream",
          "name": "stdout",
          "text": [
            "Original 3d array:\n",
            " [[[ 0  1  2  3]\n",
            "  [ 4  5  6  7]\n",
            "  [ 8  9 10 11]\n",
            "  [12 13 14 15]]\n",
            "\n",
            " [[16 17 18 19]\n",
            "  [20 21 22 23]\n",
            "  [24 25 26 27]\n",
            "  [28 29 30 31]]\n",
            "\n",
            " [[32 33 34 35]\n",
            "  [36 37 38 39]\n",
            "  [40 41 42 43]\n",
            "  [44 45 46 47]]]\n",
            "2d diagonal array:\n",
            " [[ 0  5 10 15]\n",
            " [16 21 26 31]\n",
            " [32 37 42 47]]\n"
          ]
        }
      ],
      "source": [
        "#question 2\n",
        "\n",
        "import numpy as np\n",
        "\n",
        "\n",
        "arr = np.arange(3 * 4 * 4).reshape(3, 4, 4)\n",
        "\n",
        "print(\"Original 3d array:\\n\",\n",
        "\tarr)\n",
        "\n",
        "\n",
        "diag_arr = np.diagonal(arr,\n",
        "\t\t\t\t\taxis1 = 1,\n",
        "\t\t\t\t\taxis2 = 2)\n",
        "\n",
        "print(\"2d diagonal array:\\n\",\n",
        "\tdiag_arr)\n"
      ]
    },
    {
      "cell_type": "code",
      "execution_count": null,
      "metadata": {
        "colab": {
          "base_uri": "https://localhost:8080/"
        },
        "id": "RNAGG9fHO1qy",
        "outputId": "7c43225f-b35b-4699-8732-8e8654dd1ab9"
      },
      "outputs": [
        {
          "output_type": "stream",
          "name": "stdout",
          "text": [
            "Vector norm:\n",
            "16.881943016134134\n"
          ]
        }
      ],
      "source": [
        "#question 3\n",
        "\n",
        "import numpy as np\n",
        "vec = np.arange(10)\n",
        " \n",
        "vec_norm = np.linalg.norm(vec)\n",
        " \n",
        "print(\"Vector norm:\")\n",
        "print(vec_norm)"
      ]
    },
    {
      "cell_type": "code",
      "execution_count": null,
      "metadata": {
        "colab": {
          "base_uri": "https://localhost:8080/"
        },
        "outputId": "9a9494a1-3ec9-4813-ef93-3a3129bf4775",
        "id": "Vkt6ZjO1gPA-"
      },
      "outputs": [
        {
          "output_type": "execute_result",
          "data": {
            "text/plain": [
              "array([[ -4,  -4,  -2,   7,   1,  -6],\n",
              "       [  9,   1,  -5,  -5,   8, -10],\n",
              "       [  1,   6,  -2,  -5,   1,   0],\n",
              "       [  4,   2,   4,  -1,   6,   0],\n",
              "       [  8,   2,  -6,   5,   8,   3],\n",
              "       [  0, -10,   0,   9,  -2, -10]])"
            ]
          },
          "metadata": {},
          "execution_count": 1
        }
      ],
      "source": [
        "#question 4\n",
        "\n",
        "import numpy as np\n",
        "np.random.randint(-10.0, 10.0, (6,6))\n"
      ]
    },
    {
      "cell_type": "code",
      "execution_count": null,
      "metadata": {
        "colab": {
          "base_uri": "https://localhost:8080/"
        },
        "id": "5Xi9An4OQjNa",
        "outputId": "804670e4-22f3-4d50-87d1-b930a907f68c"
      },
      "outputs": [
        {
          "output_type": "stream",
          "name": "stdout",
          "text": [
            "25 random numbers from a standard normal distribution:\n",
            "[-0.42624241 -0.88514646  0.15451978  0.62929592 -0.2466929   0.06714759\n",
            " -0.75010448  0.83231736  0.07738976  0.75745111  0.17251006 -1.6503807\n",
            " -0.39509948 -0.95568672 -0.72649175  1.02263176 -1.40809763  2.36903525\n",
            " -0.80377418 -1.67164816  0.28810105  1.14336393 -0.07090105  0.99047069\n",
            " -1.31391301]\n"
          ]
        }
      ],
      "source": [
        "#question 5\n",
        "\n",
        "import numpy as np\n",
        "rand_num = np.random.normal(0,1,25)\n",
        "print(\"25 random numbers from a standard normal distribution:\")\n",
        "print(rand_num)"
      ]
    },
    {
      "cell_type": "code",
      "execution_count": null,
      "metadata": {
        "colab": {
          "base_uri": "https://localhost:8080/"
        },
        "outputId": "6e4d644f-2162-43a7-bc16-9b33ad7ed6e4",
        "id": "nJBbbzoSgm1s"
      },
      "outputs": [
        {
          "output_type": "stream",
          "name": "stdout",
          "text": [
            " Horizontal joining\n",
            "[[0 1 0]\n",
            " [2 3 1]]\n",
            " Vertical joining\n",
            "[[0 1]\n",
            " [2 3]\n",
            " [0 1]]\n"
          ]
        }
      ],
      "source": [
        "#question 6\n",
        "\n",
        "a=np.arange(4).reshape(2,2)\n",
        "b=np.arange(2)\n",
        "\n",
        "print(\" Horizontal joining\")\n",
        "print(np.column_stack((a,b)))\n",
        "\n",
        "print(\" Vertical joining\")\n",
        "print(np.row_stack((a,b)))\n"
      ]
    },
    {
      "cell_type": "code",
      "execution_count": null,
      "metadata": {
        "colab": {
          "base_uri": "https://localhost:8080/"
        },
        "outputId": "e8fc38fa-5a9d-46c8-8064-6d154174cdab",
        "id": "YeKrI0JphXz8"
      },
      "outputs": [
        {
          "output_type": "stream",
          "name": "stdout",
          "text": [
            "[[ 0]\n",
            " [ 1]\n",
            " [ 2]\n",
            " [ 3]\n",
            " [ 4]\n",
            " [ 5]\n",
            " [ 6]\n",
            " [ 7]\n",
            " [ 8]\n",
            " [ 9]\n",
            " [10]\n",
            " [11]\n",
            " [12]\n",
            " [13]\n",
            " [14]\n",
            " [15]\n",
            " [16]\n",
            " [17]\n",
            " [18]\n",
            " [19]\n",
            " [20]\n",
            " [21]\n",
            " [22]\n",
            " [23]]\n",
            "[[ 0  1  2  3  4  5  6  7  8  9 10 11 12 13 14 15 16 17 18 19 20 21 22 23]]\n",
            "[[ 0  1  2  3  4  5  6  7  8  9 10 11]\n",
            " [12 13 14 15 16 17 18 19 20 21 22 23]]\n",
            "[[ 0  1]\n",
            " [ 2  3]\n",
            " [ 4  5]\n",
            " [ 6  7]\n",
            " [ 8  9]\n",
            " [10 11]\n",
            " [12 13]\n",
            " [14 15]\n",
            " [16 17]\n",
            " [18 19]\n",
            " [20 21]\n",
            " [22 23]]\n",
            "[[ 0  1  2]\n",
            " [ 3  4  5]\n",
            " [ 6  7  8]\n",
            " [ 9 10 11]\n",
            " [12 13 14]\n",
            " [15 16 17]\n",
            " [18 19 20]\n",
            " [21 22 23]]\n",
            "[[ 0  1  2  3  4  5  6  7]\n",
            " [ 8  9 10 11 12 13 14 15]\n",
            " [16 17 18 19 20 21 22 23]]\n"
          ]
        }
      ],
      "source": [
        "#question 7\n",
        "\n",
        "array=np.arange(24).reshape(3,4,2)\n",
        "print(np.reshape(array, (24,1)))\n",
        "print(np.reshape(array, (1,24)))\n",
        "print(np.reshape(array, (2,12)))\n",
        "print(np.reshape(array, (12,2)))\n",
        "print(np.reshape(array, (8,3)))\n",
        "print(np.reshape(array, (3,8)))"
      ]
    }
  ]
}