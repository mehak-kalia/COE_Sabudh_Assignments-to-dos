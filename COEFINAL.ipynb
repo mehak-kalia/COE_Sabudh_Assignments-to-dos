{
  "nbformat": 4,
  "nbformat_minor": 0,
  "metadata": {
    "colab": {
      "name": "Untitled0.ipynb",
      "provenance": [],
      "include_colab_link": true
    },
    "kernelspec": {
      "name": "python3",
      "display_name": "Python 3"
    },
    "language_info": {
      "name": "python"
    }
  },
  "cells": [
    {
      "cell_type": "markdown",
      "metadata": {
        "id": "view-in-github",
        "colab_type": "text"
      },
      "source": [
        "<a href=\"https://colab.research.google.com/github/mehak-kalia/COE_Sabudh_Assignments-to-dos/blob/main/COEFINAL.ipynb\" target=\"_parent\"><img src=\"https://colab.research.google.com/assets/colab-badge.svg\" alt=\"Open In Colab\"/></a>"
      ]
    },
    {
      "cell_type": "code",
      "source": [
        "#question 1\n",
        "\n",
        "N = 8\n",
        " \n",
        "# Person with 2 is celebrity\n",
        "MATRIX = [ [ 0, 0, 1, 0 ],\n",
        "           [ 0, 0, 1, 0 ],\n",
        "           [ 0, 0, 0, 0 ],\n",
        "           [ 0, 0, 1, 0 ] ]\n",
        "            \n",
        "def knows(a, b):\n",
        "     \n",
        "  return MATRIX[a][b]\n",
        " \n",
        "def findCelebrity(n):\n",
        "     \n",
        "    # The graph needs not be constructed\n",
        "    # as the edges can be found by\n",
        "    # using knows function\n",
        "       \n",
        "    # degree array;\n",
        "    indegree = [0 for x in range(n)]\n",
        "    outdegree = [0 for x in range(n)]\n",
        "       \n",
        "    # Query for all edges\n",
        "    for i in range(n):\n",
        "        for j in range(n):\n",
        "            x = knows(i, j)\n",
        "               \n",
        "            # Set the degrees\n",
        "            outdegree[i] += x\n",
        "            indegree[j] += x\n",
        "       \n",
        "    # Find a person with indegree n-1\n",
        "    # and out degree 0\n",
        "    for i in range(n):\n",
        "        if (indegree[i] == n - 1 and\n",
        "           outdegree[i] == 0):\n",
        "            return i\n",
        "             \n",
        "    return -1\n",
        "     \n",
        "# Driver code   \n",
        "if __name__ == '__main__':\n",
        "     \n",
        "    n = 4\n",
        "    id_ = findCelebrity(n)\n",
        "     \n",
        "    if id_ == -1:\n",
        "        print(\"No celebrity\")\n",
        "    else:\n",
        "        print(\"Celebrity ID\", id_)"
      ],
      "metadata": {
        "colab": {
          "base_uri": "https://localhost:8080/"
        },
        "id": "3IfUdbSuy4qE",
        "outputId": "15af49bf-360c-4943-ae5e-b7e161e439d1"
      },
      "execution_count": null,
      "outputs": [
        {
          "output_type": "stream",
          "name": "stdout",
          "text": [
            "Celebrity ID 2\n"
          ]
        }
      ]
    },
    {
      "cell_type": "code",
      "source": [
        "# question 2\n",
        "\n",
        "def minJumps(arr, l, h):\n",
        "\n",
        "\t# Base case: when source and\n",
        "\t# destination are same\n",
        "\tif (h == l):\n",
        "\t\treturn 0\n",
        "\n",
        "\t# when nothing is reachable\n",
        "\t# from the given source\n",
        "\tif (arr[l] == 0):\n",
        "\t\treturn float('inf')\n",
        "\n",
        "\t# Traverse through all the points\n",
        "\t# reachable from arr[l]. Recursively\n",
        "\t# get the minimum number of jumps\n",
        "\t# needed to reach arr[h] from\n",
        "\t# these reachable points.\n",
        "\tmin = float('inf')\n",
        "\tfor i in range(l + 1, h + 1):\n",
        "\t\tif (i < l + arr[l] + 1):\n",
        "\t\t\tjumps = minJumps(arr, i, h)\n",
        "\t\t\tif (jumps != float('inf') and\n",
        "\t\t\t\t\tjumps + 1 < min):\n",
        "\t\t\t\tmin = jumps + 1\n",
        "\n",
        "\treturn min\n",
        "\n",
        "# Driver program to test above function\n",
        "arr = [1, 3, 5, 8, 9, 2, 6, 7, 6, 8, 9]\n",
        "n = len(arr)\n",
        "print('Minimum number of jumps to reach',\n",
        "\t'end is', minJumps(arr, 0, n-1))\n",
        "\n",
        "\n",
        "\n",
        "\n"
      ],
      "metadata": {
        "colab": {
          "base_uri": "https://localhost:8080/"
        },
        "id": "ZORvlsn45tPA",
        "outputId": "bffd807c-0f3d-4515-8f31-92625f0f3c90"
      },
      "execution_count": null,
      "outputs": [
        {
          "output_type": "stream",
          "name": "stdout",
          "text": [
            "Minimum number of jumps to reach end is 3\n"
          ]
        }
      ]
    },
    {
      "cell_type": "code",
      "source": [
        "#question 4\n"
      ],
      "metadata": {
        "id": "OSwN7vXa7bQI"
      },
      "execution_count": null,
      "outputs": []
    },
    {
      "cell_type": "code",
      "source": [
        "def distancebetween(int a, int b):\n",
        "  return abs(a-b)\n",
        "\n",
        "def minValueIndex(A = []):\n",
        "  minimum = INT_MAX\n",
        "  "
      ],
      "metadata": {
        "id": "XKhBRc8N8fuz",
        "outputId": "b32b107f-1977-4d78-e429-8ae4b1cd9997",
        "colab": {
          "base_uri": "https://localhost:8080/",
          "height": 130
        }
      },
      "execution_count": null,
      "outputs": [
        {
          "output_type": "error",
          "ename": "SyntaxError",
          "evalue": "ignored",
          "traceback": [
            "\u001b[0;36m  File \u001b[0;32m\"<ipython-input-1-dc9e82288198>\"\u001b[0;36m, line \u001b[0;32m1\u001b[0m\n\u001b[0;31m    def distancebetween(int a, int b):\u001b[0m\n\u001b[0m                            ^\u001b[0m\n\u001b[0;31mSyntaxError\u001b[0m\u001b[0;31m:\u001b[0m invalid syntax\n"
          ]
        }
      ]
    },
    {
      "cell_type": "code",
      "source": [
        "#question 5\n",
        "\n",
        "# Program to count islands in boolean 2D matrix\n",
        "class Graph:\n",
        "\n",
        "\tdef __init__(self, row, col, g):\n",
        "\t\tself.ROW = row\n",
        "\t\tself.COL = col\n",
        "\t\tself.graph = g\n",
        "\n",
        "\t# A function to check if a given cell\n",
        "\t# (row, col) can be included in DFS\n",
        "\tdef isSafe(self, i, j, visited):\n",
        "\t\t# row number is in range, column number\n",
        "\t\t# is in range and value is 1\n",
        "\t\t# and not yet visited\n",
        "\t\treturn (i >= 0 and i < self.ROW and\n",
        "\t\t\t\tj >= 0 and j < self.COL and\n",
        "\t\t\t\tnot visited[i][j] and self.graph[i][j])\n",
        "\t\t\t\n",
        "\n",
        "\t# A utility function to do DFS for a 2D\n",
        "\t# boolean matrix. It only considers\n",
        "\t# the 8 neighbours as adjacent vertices\n",
        "\tdef DFS(self, i, j, visited):\n",
        "\n",
        "\t\t# These arrays are used to get row and\n",
        "\t\t# column numbers of 8 neighbours\n",
        "\t\t# of a given cell\n",
        "\t\trowNbr = [-1, -1, -1, 0, 0, 1, 1, 1];\n",
        "\t\tcolNbr = [-1, 0, 1, -1, 1, -1, 0, 1];\n",
        "\t\t\n",
        "\t\t# Mark this cell as visited\n",
        "\t\tvisited[i][j] = True\n",
        "\n",
        "\t\t# Recur for all connected neighbours\n",
        "\t\tfor k in range(8):\n",
        "\t\t\tif self.isSafe(i + rowNbr[k], j + colNbr[k], visited):\n",
        "\t\t\t\tself.DFS(i + rowNbr[k], j + colNbr[k], visited)\n",
        "\n",
        "\n",
        "\t# The main function that returns\n",
        "\t# count of islands in a given boolean\n",
        "\t# 2D matrix\n",
        "\tdef countIslands(self):\n",
        "\t\t# Make a bool array to mark visited cells.\n",
        "\t\t# Initially all cells are unvisited\n",
        "\t\tvisited = [[False for j in range(self.COL)]for i in range(self.ROW)]\n",
        "\n",
        "\t\t# Initialize count as 0 and traverse\n",
        "\t\t# through the all cells of\n",
        "\t\t# given matrix\n",
        "\t\tcount = 0\n",
        "\t\tfor i in range(self.ROW):\n",
        "\t\t\tfor j in range(self.COL):\n",
        "\t\t\t\t# If a cell with value 1 is not visited yet,\n",
        "\t\t\t\t# then new island found\n",
        "\t\t\t\tif visited[i][j] == False and self.graph[i][j] == 1:\n",
        "\t\t\t\t\t# Visit all cells in this island\n",
        "\t\t\t\t\t# and increment island count\n",
        "\t\t\t\t\tself.DFS(i, j, visited)\n",
        "\t\t\t\t\tcount += 1\n",
        "\n",
        "\t\treturn count\n",
        "\n",
        "\n",
        "grid = [[1, 1, 1, 1, 0],\n",
        "        [1, 1, 0, 1, 0],\n",
        "        [1, 1, 0, 0, 0],\n",
        "        [0, 0, 0, 0, 0]]\n",
        "\n",
        "\n",
        "row = len(grid)\n",
        "col = len(grid[0])\n",
        "\n",
        "g = Graph(row, col, grid)\n",
        "\n",
        "print(\"Number of islands is:\")\n",
        "print(g.countIslands())\n",
        "\n",
        "\n",
        "\n"
      ],
      "metadata": {
        "colab": {
          "base_uri": "https://localhost:8080/"
        },
        "id": "Gg7vU4ExvFCz",
        "outputId": "d5abe953-71c7-43e8-f8e1-2cc2589c8f03"
      },
      "execution_count": null,
      "outputs": [
        {
          "output_type": "stream",
          "name": "stdout",
          "text": [
            "Number of islands is:\n",
            "1\n"
          ]
        }
      ]
    },
    {
      "cell_type": "code",
      "source": [
        "#question 6\n",
        "\n",
        "def isMonotonic(A):\n",
        "  \n",
        "    return (all(A[i] <= A[i + 1] for i in range(len(A) - 1)) or\n",
        "            all(A[i] >= A[i + 1] for i in range(len(A) - 1)))\n",
        "A = [-1, -5, -10, -1100, -1101, -1102, -9001]\n",
        "print(isMonotonic(A))"
      ],
      "metadata": {
        "colab": {
          "base_uri": "https://localhost:8080/"
        },
        "id": "WPOnMkihxjn3",
        "outputId": "cc7499f3-0628-4371-bd7a-af679b42d7a8"
      },
      "execution_count": null,
      "outputs": [
        {
          "output_type": "stream",
          "name": "stdout",
          "text": [
            "True\n"
          ]
        }
      ]
    },
    {
      "cell_type": "code",
      "source": [
        "#question 7\n",
        "\n",
        "def LongestMountain(a):\n",
        "\t\n",
        "\ti = 0\n",
        "\tj = -1\n",
        "\tk = -1\n",
        "\tp = 0\n",
        "\td = 0\n",
        "\tn = 0\n",
        "\n",
        "\tif (len(a) < 3):\n",
        "\t\treturn 0\n",
        "\t\t\n",
        "\tfor i in range(len(a) - 1):\n",
        "\t\tif (a[i + 1] > a[i]):\n",
        "\t\t\tif (k != -1):\n",
        "\t\t\t\tk = -1\n",
        "\t\t\t\tj = -1\n",
        "\t\t\tif (j == -1):\n",
        "\t\t\t\tj = i\n",
        "\t\telse:\n",
        "\t\t\tif (a[i + 1] < a[i]):\n",
        "\t\t\t\tif (j != -1):\n",
        "\t\t\t\t\tk = i + 1\n",
        "\t\t\t\tif (k != -1 and j != -1):\n",
        "\t\t\t\t\tif (d < k - j + 1):\n",
        "\t\t\t\t\t\td = k - j + 1\n",
        "\n",
        "\t\t\telse:\n",
        "\t\t\t\tk = -1\n",
        "\t\t\t\tj = -1\n",
        "\t\n",
        "\tif (k != -1 and j != -1):\n",
        "\t\tif (d < k - j + 1):\n",
        "\t\t\td = k - j + 1\n",
        "\t\t\t\n",
        "\treturn d\n",
        "\n",
        "d = [ 1, 3, 1, 4, 5, 6,7, 8, 9, 8, 7, 6, 5 ]\n",
        "\n",
        "print(LongestMountain(d))\n"
      ],
      "metadata": {
        "colab": {
          "base_uri": "https://localhost:8080/"
        },
        "id": "LJ4axgUDD4Ox",
        "outputId": "72565a6b-0c12-43d8-aa88-5a04a6836465"
      },
      "execution_count": null,
      "outputs": [
        {
          "output_type": "stream",
          "name": "stdout",
          "text": [
            "11\n"
          ]
        }
      ]
    },
    {
      "cell_type": "code",
      "source": [
        "#question 4 \n",
        "def apartmentHunting(blocks, reqs):\n",
        "  MaxdistanceForEveryBlock=[float('-inf')]*len(blocks)\n",
        "  for i in range(0, len(blocks)):\n",
        "    for req in reqs:\n",
        "      closestRequiredDistance = float('inf')\n",
        "      for j in range(0, len(blocks)):\n",
        "        if(blocks[j][req]):\n",
        "          closestRequiredDistance = min(closestRequiredDistance,abs(i-j))\n",
        "      MaxdistanceForEveryBlock[i] = max(MaxdistanceForEveryBlock[i],closestRequiredDistance)\n",
        "  return (MaxdistanceForEveryBlock).index(min(MaxdistanceForEveryBlock))\n",
        "\n",
        "blocks = [\n",
        "\n",
        "{\"gym\": False, \"school\": True, \"store\": False},\n",
        "\n",
        "{\"gym\": True, \"school\": False, \"store\": False},\n",
        "\n",
        "{\"gym\": True, \"school\": True, \"store\": False},\n",
        "\n",
        "{\"gym\": False, \"school\": True, \"store\": False},\n",
        "\n",
        "{\"gym\": False, \"school\": True, \"store\": True}\n",
        "\n",
        "]\n",
        "\n",
        "reqs = [\"gym\", \"school\", \"store\"]\n",
        "\n",
        "apartmentHunting(blocks, reqs)"
      ],
      "metadata": {
        "colab": {
          "base_uri": "https://localhost:8080/"
        },
        "id": "D_XWCX6pKKao",
        "outputId": "0867cd44-feb1-49f0-aec7-ac9a8973d8a7"
      },
      "execution_count": null,
      "outputs": [
        {
          "output_type": "execute_result",
          "data": {
            "text/plain": [
              "3"
            ]
          },
          "metadata": {},
          "execution_count": 12
        }
      ]
    },
    {
      "cell_type": "code",
      "execution_count": null,
      "metadata": {
        "colab": {
          "base_uri": "https://localhost:8080/"
        },
        "id": "G_HRe0RrLd4H",
        "outputId": "bbf70ab7-8f08-450a-d062-5eb1ac6dadf0"
      },
      "outputs": [
        {
          "output_type": "stream",
          "name": "stdout",
          "text": [
            "216.8.94.196\n",
            "016.8.904.96\n"
          ]
        }
      ],
      "source": [
        "# question 3\n",
        "\n",
        "import re\n",
        "ip = \"216.08.094.196\"\n",
        "string = re.sub('\\.[0]*', '.', ip)\n",
        "print(string)\n",
        "\n",
        "import re\n",
        "ip = \"016.08.0904.96\"\n",
        "string = re.sub('\\.[0]*', '.', ip)\n",
        "print(string)"
      ]
    }
  ]
}